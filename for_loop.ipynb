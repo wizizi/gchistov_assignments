{
 "cells": [
  {
   "attachments": {},
   "cell_type": "markdown",
   "metadata": {},
   "source": [
    "1. Create a for loop that iterates through a list of strings and prints each string in uppercase."
   ]
  },
  {
   "cell_type": "code",
   "execution_count": null,
   "metadata": {},
   "outputs": [],
   "source": [
    "def upperAll(stringList):\n",
    "    for s in stringList:\n",
    "        print(s.upper())\n",
    "\n",
    "upperAll(input(\"Input strings: \").split())"
   ]
  },
  {
   "attachments": {},
   "cell_type": "markdown",
   "metadata": {},
   "source": [
    "2. Create a for loop that iterates through a list of numbers and prints the square of each number."
   ]
  },
  {
   "cell_type": "code",
   "execution_count": null,
   "metadata": {},
   "outputs": [],
   "source": [
    "from math import sqrt\n",
    "\n",
    "def sqrtAll(numList):\n",
    "    for n in numList:\n",
    "        try:\n",
    "            print(sqrt(n))\n",
    "        except:\n",
    "            print(f\"Invalid input: {n}\")"
   ]
  },
  {
   "attachments": {},
   "cell_type": "markdown",
   "metadata": {},
   "source": [
    "3. Create a for loop that iterates through a list of dictionaries and prints the value of a specified key for each dictionary."
   ]
  },
  {
   "cell_type": "code",
   "execution_count": null,
   "metadata": {},
   "outputs": [],
   "source": [
    "def getAllByKey(lst, key):\n",
    "    for dic in lst:\n",
    "        try:\n",
    "            print(dic[key])\n",
    "        except:\n",
    "            continue\n",
    "\n",
    "testdiclist = [{1:2, 3:4, 5:6}, {1:0, 3:2, 5:4}, {1:1, 3:3}]\n",
    "print(getAllByKey(testdiclist, 1))\n",
    "print(getAllByKey(testdiclist, 5))\n",
    "print(getAllByKey(testdiclist, 6))\n"
   ]
  },
  {
   "attachments": {},
   "cell_type": "markdown",
   "metadata": {},
   "source": [
    "4. Create a for loop that iterates through a list of numbers and prints the largest number in the list."
   ]
  },
  {
   "cell_type": "code",
   "execution_count": null,
   "metadata": {},
   "outputs": [],
   "source": [
    "def largest(nums):\n",
    "    lrgst = float('-inf')\n",
    "    for n in nums:\n",
    "        try:\n",
    "            if n > lrgst:\n",
    "                lrgst = n\n",
    "        except:\n",
    "            continue\n",
    "\n",
    "\n"
   ]
  },
  {
   "attachments": {},
   "cell_type": "markdown",
   "metadata": {},
   "source": [
    "5. Create a for loop that iterates through a list of lists and prints the sum of the elements in each sub-list."
   ]
  },
  {
   "cell_type": "code",
   "execution_count": null,
   "metadata": {},
   "outputs": [],
   "source": [
    "def sums(lists):\n",
    "    for l in lists:\n",
    "        try:\n",
    "            print(sum(l))\n",
    "        except:\n",
    "            print(\"Invalid list\")\n"
   ]
  }
 ],
 "metadata": {
  "kernelspec": {
   "display_name": "Python 3",
   "language": "python",
   "name": "python3"
  },
  "language_info": {
   "codemirror_mode": {
    "name": "ipython",
    "version": 3
   },
   "file_extension": ".py",
   "mimetype": "text/x-python",
   "name": "python",
   "nbconvert_exporter": "python",
   "pygments_lexer": "ipython3",
   "version": "3.11.4"
  },
  "orig_nbformat": 4
 },
 "nbformat": 4,
 "nbformat_minor": 2
}
