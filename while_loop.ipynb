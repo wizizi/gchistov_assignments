{
 "cells": [
  {
   "attachments": {},
   "cell_type": "markdown",
   "metadata": {},
   "source": [
    "1. Create a while loop that repeatedly takes user input and adds the input to a list until the user enters \"done\"."
   ]
  },
  {
   "cell_type": "code",
   "execution_count": 1,
   "metadata": {},
   "outputs": [],
   "source": [
    "def userListInput():\n",
    "    res = []\n",
    "    while True:\n",
    "        inp = input(\"Input: \")\n",
    "        if inp == 'done':\n",
    "            break\n",
    "        res.append(inp)\n",
    "    return res\n",
    "\n",
    "lst = userListInput()\n",
    "\n"
   ]
  },
  {
   "attachments": {},
   "cell_type": "markdown",
   "metadata": {},
   "source": [
    "2. Create a while loop that generates random numbers and adds them to a list until the sum of all numbers in the list is greater than 100."
   ]
  },
  {
   "cell_type": "code",
   "execution_count": null,
   "metadata": {},
   "outputs": [],
   "source": [
    "import random\n",
    "\n",
    "def random100():\n",
    "    cursum = 0\n",
    "    lst = []\n",
    "    while cursum <= 100:\n",
    "        rnum = random.randint(0, 100)\n",
    "        cursum += rnum\n",
    "        lst.append(rnum)\n",
    "    return lst\n",
    "\n"
   ]
  },
  {
   "attachments": {},
   "cell_type": "markdown",
   "metadata": {},
   "source": [
    "3. Create a while loop that repeatedly takes user input and appends it to a list, but only if the input is a unique string."
   ]
  },
  {
   "cell_type": "code",
   "execution_count": 2,
   "metadata": {},
   "outputs": [],
   "source": [
    "def userUniqueInput():\n",
    "    res = []\n",
    "    while True:\n",
    "        inp = input(\"Input: \")\n",
    "        if inp in res:\n",
    "            break\n",
    "        res.append(inp)\n",
    "    return res\n",
    "\n",
    "lst = userUniqueInput()"
   ]
  },
  {
   "attachments": {},
   "cell_type": "markdown",
   "metadata": {},
   "source": [
    "4. Create a while loop that repeatedly takes user input and appends it to a list, but only if the input is a number greater than 10."
   ]
  },
  {
   "cell_type": "code",
   "execution_count": null,
   "metadata": {},
   "outputs": [],
   "source": [
    "def user10Input():\n",
    "    res = []\n",
    "    while True:\n",
    "        inp = input(\"Input: \")\n",
    "        try:\n",
    "            if inp <= 10:\n",
    "                break\n",
    "            res.append(inp)\n",
    "        except:\n",
    "            break\n",
    "    return res\n",
    "\n",
    "lst = userUniqueInput()"
   ]
  },
  {
   "attachments": {},
   "cell_type": "markdown",
   "metadata": {},
   "source": [
    "5. Create a while loop that repeatedly takes user input and keeps track of the highest number entered until the user enters \"done\"."
   ]
  },
  {
   "cell_type": "code",
   "execution_count": null,
   "metadata": {},
   "outputs": [],
   "source": [
    "def userListInput():\n",
    "    res = []\n",
    "    lrgst = float('-inf')\n",
    "    while True:\n",
    "        inp = input(\"Input: \")\n",
    "        if inp == 'done':\n",
    "            break\n",
    "        res.append(inp)\n",
    "        try:\n",
    "            if inp > lrgst:\n",
    "                lrgst = inp\n",
    "        except:\n",
    "            continue\n",
    "    return res, lrgst\n",
    "\n",
    "lst, lrgst = userUniqueInput()"
   ]
  }
 ],
 "metadata": {
  "kernelspec": {
   "display_name": "Python 3",
   "language": "python",
   "name": "python3"
  },
  "language_info": {
   "codemirror_mode": {
    "name": "ipython",
    "version": 3
   },
   "file_extension": ".py",
   "mimetype": "text/x-python",
   "name": "python",
   "nbconvert_exporter": "python",
   "pygments_lexer": "ipython3",
   "version": "3.11.4"
  },
  "orig_nbformat": 4
 },
 "nbformat": 4,
 "nbformat_minor": 2
}
