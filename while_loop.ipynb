{
 "cells": [
  {
   "attachments": {},
   "cell_type": "markdown",
   "metadata": {},
   "source": [
    "1. Create a while loop that repeatedly takes user input and adds the input to a list until the user enters \"done\"."
   ]
  },
  {
   "cell_type": "code",
   "execution_count": 1,
   "metadata": {},
   "outputs": [],
   "source": [
    "def userListInput():\n",
    "    res = []\n",
    "    while True:\n",
    "        inp = input(\"Input: \")\n",
    "        if inp == 'done':\n",
    "            break\n",
    "        res.append(inp)\n",
    "    return res\n",
    "\n",
    "lst = userListInput()\n",
    "\n"
   ]
  },
  {
   "attachments": {},
   "cell_type": "markdown",
   "metadata": {},
   "source": [
    "2. Create a while loop that generates random numbers and adds them to a list until the sum of all numbers in the list is greater than 100."
   ]
  },
  {
   "cell_type": "code",
   "execution_count": null,
   "metadata": {},
   "outputs": [],
   "source": [
    "import random\n",
    "\n",
    "def random100():\n",
    "    cursum = 0\n",
    "    lst = []\n",
    "    while cursum <= 100:\n",
    "        rnum = random.randint(0, 100)\n",
    "        cursum += rnum\n",
    "        lst.append(rnum)\n",
    "    return lst\n",
    "\n"
   ]
  },
  {
   "attachments": {},
   "cell_type": "markdown",
   "metadata": {},
   "source": [
    "3. Create a while loop that repeatedly takes user input and appends it to a list, but only if the input is a unique string."
   ]
  },
  {
   "cell_type": "code",
   "execution_count": 2,
   "metadata": {},
   "outputs": [],
   "source": [
    "def userUniqueInput():\n",
    "    res = []\n",
    "    while True:\n",
    "        inp = input(\"Input: \")\n",
    "        if inp in res:\n",
    "            break\n",
    "        res.append(inp)\n",
    "    return res\n",
    "\n",
    "lst = userUniqueInput()"
   ]
  },
  {
   "attachments": {},
   "cell_type": "markdown",
   "metadata": {},
   "source": [
    "4. Create a while loop that repeatedly takes user input and appends it to a list, but only if the input is a number greater than 10."
   ]
  },
  {
   "cell_type": "code",
   "execution_count": null,
   "metadata": {},
   "outputs": [],
   "source": [
    "def user10Input():\n",
    "    res = []\n",
    "    while True:\n",
    "        inp = input(\"Input: \")\n",
    "        try:\n",
    "            if inp <= 10:\n",
    "                break\n",
    "            res.append(inp)\n",
    "        except:\n",
    "            break\n",
    "    return res\n",
    "\n",
    "lst = userUniqueInput()"
   ]
  },
  {
   "attachments": {},
   "cell_type": "markdown",
   "metadata": {},
   "source": [
    "5. Create a while loop that repeatedly takes user input and keeps track of the highest number entered until the user enters \"done\"."
   ]
  },
  {
   "cell_type": "code",
   "execution_count": 3,
   "metadata": {},
   "outputs": [
    {
     "ename": "ValueError",
     "evalue": "not enough values to unpack (expected 2, got 1)",
     "output_type": "error",
     "traceback": [
      "\u001b[1;31m---------------------------------------------------------------------------\u001b[0m",
      "\u001b[1;31mValueError\u001b[0m                                Traceback (most recent call last)",
      "Cell \u001b[1;32mIn[3], line 16\u001b[0m\n\u001b[0;32m     13\u001b[0m             \u001b[39mcontinue\u001b[39;00m\n\u001b[0;32m     14\u001b[0m     \u001b[39mreturn\u001b[39;00m res, lrgst\n\u001b[1;32m---> 16\u001b[0m lst, lrgst \u001b[39m=\u001b[39m userUniqueInput()\n",
      "\u001b[1;31mValueError\u001b[0m: not enough values to unpack (expected 2, got 1)"
     ]
    }
   ],
   "source": [
    "def userListInput():\n",
    "    res = []\n",
    "    lrgst = float('-inf')\n",
    "    while True:\n",
    "        inp = input(\"Input: \")\n",
    "        if inp == 'done':\n",
    "            break\n",
    "        res.append(inp)\n",
    "        try:\n",
    "            if inp > lrgst:\n",
    "                lrgst = inp\n",
    "        except:\n",
    "            continue\n",
    "    return res, lrgst\n",
    "\n",
    "lst, lrgst = userUniqueInput()"
   ]
  }
 ],
 "metadata": {
  "kernelspec": {
   "display_name": "Python 3",
   "language": "python",
   "name": "python3"
  },
  "language_info": {
   "codemirror_mode": {
    "name": "ipython",
    "version": 3
   },
   "file_extension": ".py",
   "mimetype": "text/x-python",
   "name": "python",
   "nbconvert_exporter": "python",
   "pygments_lexer": "ipython3",
   "version": "3.11.4"
  },
  "orig_nbformat": 4
 },
 "nbformat": 4,
 "nbformat_minor": 2
}
