{
 "cells": [
  {
   "attachments": {},
   "cell_type": "markdown",
   "metadata": {},
   "source": [
    "1. Write a function that takes a list of integers as an argument, and returns the sum of the integers. Use a try-except block to catch any ValueError exceptions that may be raised when attempting to convert a string to an integer."
   ]
  },
  {
   "cell_type": "code",
   "execution_count": 14,
   "metadata": {},
   "outputs": [
    {
     "name": "stdout",
     "output_type": "stream",
     "text": [
      "Error occured\n"
     ]
    }
   ],
   "source": [
    "def sumList(lst):\n",
    "    try:\n",
    "        res = 0\n",
    "        for i in lst:\n",
    "            res += int(i)\n",
    "        print(res)\n",
    "    except:\n",
    "        print(\"Error occured\")\n",
    "\n",
    "lst = input(\"Enter the integers: \").split()\n",
    "sumList(lst)\n"
   ]
  },
  {
   "attachments": {},
   "cell_type": "markdown",
   "metadata": {},
   "source": [
    "2. Write a function that takes a filename as an argument, and attempts to open the file. Use a try-except block to catch any FileNotFoundError exceptions that may be raised when attempting to open the file. If the file is successfully opened, the function should return the contents of the file."
   ]
  },
  {
   "cell_type": "code",
   "execution_count": 12,
   "metadata": {},
   "outputs": [
    {
     "name": "stdout",
     "output_type": "stream",
     "text": [
      "Coudn't find the file\n"
     ]
    }
   ],
   "source": [
    "def fileContents(fname):\n",
    "    try:\n",
    "        f = open(fname, \"r\").read()\n",
    "        return f\n",
    "    except:\n",
    "        return(\"Coudn't find the file\")\n",
    "\n",
    "\n",
    "fname = input(\"Input file name:\")\n",
    "print(fileContents(fname))\n",
    "    "
   ]
  },
  {
   "attachments": {},
   "cell_type": "markdown",
   "metadata": {},
   "source": [
    "3. Write a function that takes a list of strings as an argument, and returns a new list containing only the strings that can be successfully converted to a float. Use a try-except block to catch any ValueError exceptions that may be raised when attempting to convert a string to a float."
   ]
  },
  {
   "cell_type": "code",
   "execution_count": 15,
   "metadata": {},
   "outputs": [
    {
     "name": "stdout",
     "output_type": "stream",
     "text": [
      "['1', '2', '3']\n"
     ]
    }
   ],
   "source": [
    "def getFloats(lst):\n",
    "    res = []\n",
    "    for i in lst:\n",
    "        try:\n",
    "            float(i)\n",
    "            res.append(i)\n",
    "        except:\n",
    "            continue\n",
    "    return res\n",
    "\n",
    "lst = input(\"Enter the list: \").split()\n",
    "print(getFloats(lst))\n"
   ]
  },
  {
   "attachments": {},
   "cell_type": "markdown",
   "metadata": {},
   "source": [
    "4. Write a function that takes a list of dictionaries as an argument, and returns the value of a specified key from each dictionary. Use a try-except block to catch any KeyError exceptions that may be raised when attempting to access a key that does not exist in a dictionary."
   ]
  },
  {
   "cell_type": "code",
   "execution_count": 16,
   "metadata": {},
   "outputs": [
    {
     "name": "stdout",
     "output_type": "stream",
     "text": [
      "[2, 0, 1]\n",
      "[6, 4]\n",
      "[]\n"
     ]
    }
   ],
   "source": [
    "def getAllByKey(lst, key):\n",
    "    res = []\n",
    "    for dic in lst:\n",
    "        try:\n",
    "            res.append(dic[key])\n",
    "        except:\n",
    "            continue\n",
    "    return res\n",
    "\n",
    "testdiclist = [{1:2, 3:4, 5:6}, {1:0, 3:2, 5:4}, {1:1, 3:3}]\n",
    "print(getAllByKey(testdiclist, 1))\n",
    "print(getAllByKey(testdiclist, 5))\n",
    "print(getAllByKey(testdiclist, 6))\n"
   ]
  },
  {
   "attachments": {},
   "cell_type": "markdown",
   "metadata": {},
   "source": [
    "5. Write a function that takes a list of integers as an argument, and returns the largest integer in the list. Use a try-except block to catch any ValueError exceptions that may be raised when attempting to compare elements that are not integers."
   ]
  },
  {
   "cell_type": "code",
   "execution_count": 18,
   "metadata": {},
   "outputs": [
    {
     "name": "stdout",
     "output_type": "stream",
     "text": [
      "88\n"
     ]
    }
   ],
   "source": [
    "def getMax(lst):\n",
    "    res = float('-inf')\n",
    "    for i in lst:\n",
    "        try:\n",
    "            if int(i) > res:\n",
    "                res = int(i)\n",
    "        except:\n",
    "            continue\n",
    "    return res\n",
    "\n",
    "lst = input(\"Enter the list: \").split()\n",
    "print(getMax(lst))"
   ]
  }
 ],
 "metadata": {
  "kernelspec": {
   "display_name": "Python 3",
   "language": "python",
   "name": "python3"
  },
  "language_info": {
   "codemirror_mode": {
    "name": "ipython",
    "version": 3
   },
   "file_extension": ".py",
   "mimetype": "text/x-python",
   "name": "python",
   "nbconvert_exporter": "python",
   "pygments_lexer": "ipython3",
   "version": "3.11.4"
  },
  "orig_nbformat": 4,
  "vscode": {
   "interpreter": {
    "hash": "f7a5be651532581cb44625d52e18aa1d390cab54bc6b51099d8c30bea9b68219"
   }
  }
 },
 "nbformat": 4,
 "nbformat_minor": 2
}
