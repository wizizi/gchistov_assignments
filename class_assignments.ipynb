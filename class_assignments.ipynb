{
 "cells": [
  {
   "cell_type": "code",
   "execution_count": null,
   "metadata": {},
   "outputs": [],
   "source": [
    "def computepay(h, r):\n",
    "    try:\n",
    "        if h < 0 or r < 0:\n",
    "            raise Exception(\"values can't be negative\")\n",
    "        if h > 40:\n",
    "            return 40 * r + (h - 40) * r * 1.5\n",
    "        else:\n",
    "            return h * r\n",
    "    except:\n",
    "        print(\"Invalid values\")\n",
    "        return -1"
   ]
  },
  {
   "cell_type": "code",
   "execution_count": null,
   "metadata": {},
   "outputs": [],
   "source": [
    "def computegrade(score):\n",
    "    try: \n",
    "        if score < 0:\n",
    "            raise Exception(\"negative score\")\n",
    "        if score >= 0.9:\n",
    "            return 'A'\n",
    "        elif score >= 0.8:\n",
    "            return 'B'\n",
    "        elif score >= 0.7:\n",
    "            return 'C'\n",
    "        elif score >= 0.6:\n",
    "            return 'D'\n",
    "        else:\n",
    "            return 'F'\n",
    "    except:\n",
    "        return \"Invalid values\""
   ]
  },
  {
   "cell_type": "code",
   "execution_count": 1,
   "metadata": {},
   "outputs": [
    {
     "name": "stdout",
     "output_type": "stream",
     "text": [
      "I am happy to hear that you are feeling good.\n",
      "I am happy to hear that you are feeling .\n",
      "I am happy to hear that you are feeling .\n"
     ]
    }
   ],
   "source": [
    "def greet(tod):\n",
    "    print(f\"Good {tod}!\\nHow are you feeling?\\n\")\n",
    "    mood = input()\n",
    "    print(f\"I am happy to hear that you are feeling {mood}.\")\n",
    "\n",
    "times = (\"morning\", \"afternoon\", \"evening\")\n",
    "for t in times:\n",
    "    greet(t)\n",
    "\n"
   ]
  },
  {
   "cell_type": "code",
   "execution_count": 7,
   "metadata": {},
   "outputs": [
    {
     "name": "stdout",
     "output_type": "stream",
     "text": [
      "Invalid input\n",
      "21.0 6 3.5\n"
     ]
    }
   ],
   "source": [
    "from statistics import mean\n",
    "\n",
    "nums = []\n",
    "inp = \"\"\n",
    "while True:\n",
    "    inp = input(\"Enter a number: \")\n",
    "    if inp == \"done\":\n",
    "        break\n",
    "    try:\n",
    "        nums.append(float(inp))\n",
    "    except:\n",
    "        print(\"Invalid input\")\n",
    "        \n",
    "print(f\"{sum(nums)} {len(nums)} {mean(nums)}\")\n"
   ]
  },
  {
   "cell_type": "code",
   "execution_count": 5,
   "metadata": {},
   "outputs": [
    {
     "name": "stdout",
     "output_type": "stream",
     "text": [
      "Sender: stephen.marquard@uct.ac.za\n",
      "Sender: louis@media.berkeley.edu\n",
      "Sender: zqian@umich.edu\n",
      "Sender: rjlowe@iupui.edu\n",
      "Sender: zqian@umich.edu\n",
      "Sender: rjlowe@iupui.edu\n",
      "Sender: cwen@iupui.edu\n",
      "Sender: cwen@iupui.edu\n",
      "Sender: gsilver@umich.edu\n",
      "Sender: gsilver@umich.edu\n",
      "Sender: zqian@umich.edu\n",
      "Sender: gsilver@umich.edu\n",
      "Sender: wagnermr@iupui.edu\n",
      "Sender: zqian@umich.edu\n",
      "Sender: antranig@caret.cam.ac.uk\n",
      "Sender: gopal.ramasammycook@gmail.com\n",
      "Sender: david.horwitz@uct.ac.za\n",
      "Sender: david.horwitz@uct.ac.za\n",
      "Sender: david.horwitz@uct.ac.za\n",
      "Sender: david.horwitz@uct.ac.za\n",
      "Sender: stephen.marquard@uct.ac.za\n",
      "Sender: louis@media.berkeley.edu\n",
      "Sender: louis@media.berkeley.edu\n",
      "Sender: ray@media.berkeley.edu\n",
      "Sender: cwen@iupui.edu\n",
      "Sender: cwen@iupui.edu\n",
      "Sender: cwen@iupui.edu\n",
      "27\n"
     ]
    }
   ],
   "source": [
    "\n",
    "try:\n",
    "    count = 0\n",
    "    with open(\"mbox-short.txt\", \"r\") as mbox:\n",
    "        for line in mbox:\n",
    "            if len(line.split()) > 0 and line.split()[0] == \"From\":\n",
    "                count += 1\n",
    "                print(f\"Sender: {line.split()[1]}\")\n",
    "    print(count)\n",
    "except:\n",
    "    print(\"Can't open file\")"
   ]
  },
  {
   "cell_type": "code",
   "execution_count": 8,
   "metadata": {},
   "outputs": [
    {
     "name": "stdout",
     "output_type": "stream",
     "text": [
      "stephen.marquard@uct.ac.za: 2\n",
      "louis@media.berkeley.edu: 3\n",
      "zqian@umich.edu: 4\n",
      "rjlowe@iupui.edu: 2\n",
      "cwen@iupui.edu: 5\n",
      "gsilver@umich.edu: 3\n",
      "wagnermr@iupui.edu: 1\n",
      "antranig@caret.cam.ac.uk: 1\n",
      "gopal.ramasammycook@gmail.com: 1\n",
      "david.horwitz@uct.ac.za: 4\n",
      "ray@media.berkeley.edu: 1\n",
      "cwen@iupui.edu: 5\n"
     ]
    }
   ],
   "source": [
    "\n",
    "try:\n",
    "    counts = {}\n",
    "    mfs = \"\"\n",
    "    mfsCount = 0\n",
    "    with open(\"mbox-short.txt\", \"r\") as mbox:\n",
    "        for line in mbox:\n",
    "            if len(line.split()) > 0 and line.split()[0] == \"From\":\n",
    "                mfs = line.split()[1]\n",
    "                try:\n",
    "                    counts[line.split()[1]] += 1\n",
    "                except:\n",
    "                    counts[line.split()[1]] = 1\n",
    "\n",
    "                \n",
    "    for key in counts:\n",
    "        print(f\"{key}: {counts[key]}\")\n",
    "        if counts[key] > mfsCount:\n",
    "            mfs = key\n",
    "            mfsCount = counts[key]\n",
    "    print(f\"{mfs}: {counts[mfs]}\")\n",
    "\n",
    "except:\n",
    "    print(\"Can't open file\")"
   ]
  },
  {
   "cell_type": "code",
   "execution_count": 6,
   "metadata": {},
   "outputs": [
    {
     "name": "stdout",
     "output_type": "stream",
     "text": [
      "['1.23', '1.23', '235435.34']\n"
     ]
    }
   ],
   "source": [
    "import re\n",
    "\n",
    "r = re.compile('\\d+\\.{1}\\d{2}')\n",
    "txt = '01/01/2021 1.23 jdjdjdjdjd 1.234 14/09/2000 18/003/1972 18/03/1972 .234 .23 235435.34'\n",
    "print(r.findall(txt))"
   ]
  },
  {
   "cell_type": "code",
   "execution_count": 2,
   "metadata": {},
   "outputs": [
    {
     "name": "stdout",
     "output_type": "stream",
     "text": [
      "Alexander Dumas\n"
     ]
    }
   ],
   "source": [
    "class Author:\n",
    "    def __init__(self, name, birth_year):\n",
    "        self.name = name\n",
    "        self.birth_year = birth_year\n",
    "        pass\n",
    "\n",
    "class Book:\n",
    "    def __init__(self, name, publication_year, author):\n",
    "        self.name = name\n",
    "        self.publication_year = publication_year\n",
    "        self.author = author\n",
    "        pass\n",
    "\n",
    "a = Author('Alexander Dumas', 1802)\n",
    "b = Book('The Three Musketeers', 1844, a)\n",
    "print(b.author.name)"
   ]
  },
  {
   "cell_type": "code",
   "execution_count": null,
   "metadata": {},
   "outputs": [],
   "source": [
    "class BankAccount:\n",
    "    def __init__(self, acc_number, balance):\n",
    "        self.acc_number = acc_number\n",
    "        self.balance = balance\n",
    "        pass\n",
    "\n",
    "    def deposit(self, amount):\n",
    "        self.balance += amount\n",
    "\n",
    "    def withdraw(self, amount):\n",
    "        self.balance -= amount\n",
    "\n",
    "    def details(self):\n",
    "        print(f'ACC NO. {self.acc_number}\\nBALANCE: {self.balance}')"
   ]
  }
 ],
 "metadata": {
  "kernelspec": {
   "display_name": "Python 3",
   "language": "python",
   "name": "python3"
  },
  "language_info": {
   "codemirror_mode": {
    "name": "ipython",
    "version": 3
   },
   "file_extension": ".py",
   "mimetype": "text/x-python",
   "name": "python",
   "nbconvert_exporter": "python",
   "pygments_lexer": "ipython3",
   "version": "3.11.4"
  },
  "orig_nbformat": 4
 },
 "nbformat": 4,
 "nbformat_minor": 2
}
