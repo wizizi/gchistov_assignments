{
 "cells": [
  {
   "cell_type": "markdown",
   "metadata": {},
   "source": [
    "Write a Python program that reads a text file and prints the number of lines, words, and characters in the file."
   ]
  },
  {
   "cell_type": "code",
   "execution_count": 2,
   "metadata": {},
   "outputs": [
    {
     "name": "stdout",
     "output_type": "stream",
     "text": [
      "Lines: 4 Words: 13 Characters: 62\n"
     ]
    }
   ],
   "source": [
    "def outputFileInfo(fname):\n",
    "    try:\n",
    "        f = open(fname, 'r')\n",
    "        conts = f.read()\n",
    "        print(f\"Lines: {len(conts.splitlines())} Words: {len(conts.split())} Characters: {len(conts)}\")\n",
    "    except:\n",
    "        print(\"Can't open file\")\n",
    "\n",
    "outputFileInfo(\"testfile.txt\")\n",
    "\n",
    "\n",
    "        \n"
   ]
  },
  {
   "cell_type": "markdown",
   "metadata": {},
   "source": [
    "Write a Python program that reads a CSV file and converts it into a dictionary. Each row of the CSV file should be a key-value pair in the dictionary.\n"
   ]
  },
  {
   "cell_type": "code",
   "execution_count": 7,
   "metadata": {},
   "outputs": [
    {
     "name": "stdout",
     "output_type": "stream",
     "text": [
      "{'1': 'a', '2': 'b', '3': 'c', '4': 'd', '5': 'e', '6': 'f', '7': 'g', '8': 'h'}\n"
     ]
    }
   ],
   "source": [
    "import csv\n",
    "\n",
    "def csvToDict(fname):\n",
    "    dict = {}\n",
    "    try:\n",
    "        with open(fname, 'r') as f:\n",
    "            rdr = csv.reader(f)\n",
    "            for row in rdr:\n",
    "                dict[row[0]] = row[1]\n",
    "    except:\n",
    "        print(\"Can't open file\")\n",
    "    return dict\n",
    "\n",
    "\n",
    "print(csvToDict(\"testcsv.csv\"))"
   ]
  },
  {
   "cell_type": "markdown",
   "metadata": {},
   "source": [
    "Write a Python program that reads a binary file and converts it into a hexadecimal string. The program should output the hexadecimal string to a text file."
   ]
  },
  {
   "cell_type": "code",
   "execution_count": 10,
   "metadata": {},
   "outputs": [],
   "source": [
    "import binascii\n",
    "\n",
    "def hexBinary(fname):\n",
    "    try:\n",
    "        with open(fname, 'rb') as f:\n",
    "            hexdata = binascii.hexlify(f.read())\n",
    "            out = open('hexvals.txt', 'a')\n",
    "            out.write(fname + \": \" + str(hexdata))\n",
    "    except:\n",
    "        print(\"Can't open file\")\n",
    "\n",
    "\n",
    "hexBinary('testfile.txt')\n"
   ]
  },
  {
   "cell_type": "markdown",
   "metadata": {},
   "source": [
    "Write a Python program that reads a text file containing numbers and calculates the sum of all the numbers in the file."
   ]
  },
  {
   "cell_type": "code",
   "execution_count": 11,
   "metadata": {},
   "outputs": [
    {
     "name": "stdout",
     "output_type": "stream",
     "text": [
      "123771.0\n"
     ]
    }
   ],
   "source": [
    "def sumFile(fname):\n",
    "    sm = 0\n",
    "    try:\n",
    "        f = open(fname, 'r')\n",
    "        conts = f.read().split()\n",
    "        for el in conts:\n",
    "            try:\n",
    "                sm += float(el)\n",
    "            except:\n",
    "                continue\n",
    "        return sm\n",
    "    except:\n",
    "        print(\"Can't open file\")\n",
    "        return 0\n",
    "    \n",
    "print(sumFile('testfile.txt'))"
   ]
  },
  {
   "cell_type": "markdown",
   "metadata": {},
   "source": [
    "Write a Python program that reads a text file and removes all the blank lines. The modified text should be written back to the file."
   ]
  },
  {
   "cell_type": "code",
   "execution_count": 19,
   "metadata": {},
   "outputs": [],
   "source": [
    "def clearBlankLines(fname):\n",
    "    try:\n",
    "        f = open(fname, 'r')\n",
    "        conts = f.readlines()\n",
    "        newconts = \"\"\n",
    "        for l in conts:\n",
    "            if l != \"\\n\":\n",
    "                newconts += l\n",
    "        f.close()\n",
    "        f = open(fname, 'w')\n",
    "        f.write(newconts)\n",
    "        f.close()\n",
    "    except:\n",
    "        print(\"Can't open file\")\n",
    "\n",
    "clearBlankLines(\"testfile.txt\")"
   ]
  }
 ],
 "metadata": {
  "kernelspec": {
   "display_name": "Python 3",
   "language": "python",
   "name": "python3"
  },
  "language_info": {
   "codemirror_mode": {
    "name": "ipython",
    "version": 3
   },
   "file_extension": ".py",
   "mimetype": "text/x-python",
   "name": "python",
   "nbconvert_exporter": "python",
   "pygments_lexer": "ipython3",
   "version": "3.11.4"
  },
  "orig_nbformat": 4
 },
 "nbformat": 4,
 "nbformat_minor": 2
}
