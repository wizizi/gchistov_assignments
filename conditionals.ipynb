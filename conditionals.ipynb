{
 "cells": [
  {
   "attachments": {},
   "cell_type": "markdown",
   "metadata": {},
   "source": [
    "1. Write a program that prompts the user for a string and checks whether the string is a palindrome (i.e., the string reads the same forward and backward)."
   ]
  },
  {
   "cell_type": "code",
   "execution_count": 10,
   "metadata": {},
   "outputs": [
    {
     "name": "stdout",
     "output_type": "stream",
     "text": [
      "True\n"
     ]
    }
   ],
   "source": [
    "str = input(\"Input string:\")\n",
    "print(str == str[::-1])\n"
   ]
  },
  {
   "attachments": {},
   "cell_type": "markdown",
   "metadata": {},
   "source": [
    "2. Write a program that takes in a list of integers and returns the sum of all even numbers in the list."
   ]
  },
  {
   "cell_type": "code",
   "execution_count": 14,
   "metadata": {},
   "outputs": [
    {
     "name": "stdout",
     "output_type": "stream",
     "text": [
      "12\n"
     ]
    }
   ],
   "source": [
    "try:\n",
    "    lst = [int(item) for item in input(\"Enter the integers: \").split()]\n",
    "    res = 0\n",
    "    for i in lst:\n",
    "        if i % 2 == 0:\n",
    "            res += i\n",
    "    print(res)\n",
    "except:\n",
    "    print(\"Error occured\")\n"
   ]
  },
  {
   "attachments": {},
   "cell_type": "markdown",
   "metadata": {},
   "source": [
    "3. Write a program that prompts the user for their age and checks whether they are old enough to vote (i.e., 18 years old or older)."
   ]
  },
  {
   "cell_type": "code",
   "execution_count": 17,
   "metadata": {},
   "outputs": [
    {
     "name": "stdout",
     "output_type": "stream",
     "text": [
      "You can't vote!\n"
     ]
    }
   ],
   "source": [
    "try:\n",
    "    age = int(input(\"Input your age\"))\n",
    "    if age >= 18:\n",
    "        print(\"You can vote!\")\n",
    "    elif age > 0:\n",
    "        print(\"You can't vote!\")\n",
    "    else:\n",
    "        print(\"Age can't be negative!\")\n",
    "except:\n",
    "    print(\"Error occured\")"
   ]
  },
  {
   "attachments": {},
   "cell_type": "markdown",
   "metadata": {},
   "source": [
    "4. Write a program that takes in a list of integers and returns the largest number in the list that is also divisible by 3."
   ]
  },
  {
   "cell_type": "code",
   "execution_count": 22,
   "metadata": {},
   "outputs": [
    {
     "ename": "ValueError",
     "evalue": "invalid literal for int() with base 10: 'fff'",
     "output_type": "error",
     "traceback": [
      "\u001b[1;31m---------------------------------------------------------------------------\u001b[0m",
      "\u001b[1;31mValueError\u001b[0m                                Traceback (most recent call last)",
      "Cell \u001b[1;32mIn[22], line 1\u001b[0m\n\u001b[1;32m----> 1\u001b[0m lst \u001b[39m=\u001b[39m [\u001b[39mint\u001b[39;49m(item) \u001b[39mfor\u001b[39;49;00m item \u001b[39min\u001b[39;49;00m \u001b[39minput\u001b[39;49m(\u001b[39m\"\u001b[39;49m\u001b[39mEnter the integers: \u001b[39;49m\u001b[39m\"\u001b[39;49m)\u001b[39m.\u001b[39;49msplit()]\n\u001b[0;32m      2\u001b[0m res \u001b[39m=\u001b[39m \u001b[39mfloat\u001b[39m(\u001b[39m'\u001b[39m\u001b[39m-inf\u001b[39m\u001b[39m'\u001b[39m)\n\u001b[0;32m      3\u001b[0m \u001b[39mfor\u001b[39;00m i \u001b[39min\u001b[39;00m lst:\n",
      "Cell \u001b[1;32mIn[22], line 1\u001b[0m, in \u001b[0;36m<listcomp>\u001b[1;34m(.0)\u001b[0m\n\u001b[1;32m----> 1\u001b[0m lst \u001b[39m=\u001b[39m [\u001b[39mint\u001b[39;49m(item) \u001b[39mfor\u001b[39;00m item \u001b[39min\u001b[39;00m \u001b[39minput\u001b[39m(\u001b[39m\"\u001b[39m\u001b[39mEnter the integers: \u001b[39m\u001b[39m\"\u001b[39m)\u001b[39m.\u001b[39msplit()]\n\u001b[0;32m      2\u001b[0m res \u001b[39m=\u001b[39m \u001b[39mfloat\u001b[39m(\u001b[39m'\u001b[39m\u001b[39m-inf\u001b[39m\u001b[39m'\u001b[39m)\n\u001b[0;32m      3\u001b[0m \u001b[39mfor\u001b[39;00m i \u001b[39min\u001b[39;00m lst:\n",
      "\u001b[1;31mValueError\u001b[0m: invalid literal for int() with base 10: 'fff'"
     ]
    }
   ],
   "source": [
    "try:\n",
    "    lst = [int(item) for item in input(\"Enter the integers: \").split()]\n",
    "    res = float('-inf')\n",
    "    for i in lst:\n",
    "        if (i % 3 == 0) and (i > res):\n",
    "            res = i\n",
    "    if res == float('-inf'):\n",
    "        print(\"No numbers divisible by 3!\")\n",
    "    else:\n",
    "        print(res)\n",
    "except:\n",
    "    print(\"Error occured\")"
   ]
  },
  {
   "attachments": {},
   "cell_type": "markdown",
   "metadata": {},
   "source": [
    "5. Write a program that prompts the user for a number and checks whether the number is a prime number (i.e., only divisible by 1 and itself)."
   ]
  },
  {
   "cell_type": "code",
   "execution_count": 30,
   "metadata": {},
   "outputs": [
    {
     "name": "stdout",
     "output_type": "stream",
     "text": [
      "Error occured\n"
     ]
    }
   ],
   "source": [
    "import math\n",
    "\n",
    "try:\n",
    "    n = int(input(\"Input number:\"))\n",
    "    res = True\n",
    "    for i in range(2, int(math.sqrt(n)) + 1):\n",
    "        res &= n % i > 0\n",
    "        if res == False:\n",
    "            break\n",
    "    print(res)\n",
    "except:\n",
    "    print(\"Error occured\")\n",
    "\n"
   ]
  }
 ],
 "metadata": {
  "kernelspec": {
   "display_name": "Python 3",
   "language": "python",
   "name": "python3"
  },
  "language_info": {
   "codemirror_mode": {
    "name": "ipython",
    "version": 3
   },
   "file_extension": ".py",
   "mimetype": "text/x-python",
   "name": "python",
   "nbconvert_exporter": "python",
   "pygments_lexer": "ipython3",
   "version": "3.11.4"
  },
  "orig_nbformat": 4,
  "vscode": {
   "interpreter": {
    "hash": "f7a5be651532581cb44625d52e18aa1d390cab54bc6b51099d8c30bea9b68219"
   }
  }
 },
 "nbformat": 4,
 "nbformat_minor": 2
}
